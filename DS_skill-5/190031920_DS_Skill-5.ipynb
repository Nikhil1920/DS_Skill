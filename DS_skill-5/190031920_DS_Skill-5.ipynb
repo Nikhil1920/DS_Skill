{
 "cells": [
  {
   "cell_type": "markdown",
   "metadata": {},
   "source": [
    "# 190031920\n",
    "# A Nikhil Reddy\n",
    "# DS Skill 5"
   ]
  },
  {
   "cell_type": "code",
   "execution_count": 1,
   "metadata": {
    "executionInfo": {
     "elapsed": 1413,
     "status": "ok",
     "timestamp": 1613102794299,
     "user": {
      "displayName": "Sai Dinesh",
      "photoUrl": "https://lh3.googleusercontent.com/a-/AOh14GjSnJYjr8OycbPrnsN2ArvBt4eBLcPF6VJy3ucWzg=s64",
      "userId": "11814115639164174022"
     },
     "user_tz": -330
    },
    "id": "jjFUl9z6BHxS"
   },
   "outputs": [],
   "source": [
    "import math\n",
    "import pandas as pd\n",
    "import numpy as np\n",
    "from matplotlib import pyplot\n",
    "from scipy import stats"
   ]
  },
  {
   "cell_type": "code",
   "execution_count": 2,
   "metadata": {},
   "outputs": [
    {
     "data": {
      "text/html": [
       "<div>\n",
       "<style scoped>\n",
       "    .dataframe tbody tr th:only-of-type {\n",
       "        vertical-align: middle;\n",
       "    }\n",
       "\n",
       "    .dataframe tbody tr th {\n",
       "        vertical-align: top;\n",
       "    }\n",
       "\n",
       "    .dataframe thead th {\n",
       "        text-align: right;\n",
       "    }\n",
       "</style>\n",
       "<table border=\"1\" class=\"dataframe\">\n",
       "  <thead>\n",
       "    <tr style=\"text-align: right;\">\n",
       "      <th></th>\n",
       "      <th>id</th>\n",
       "      <th>season</th>\n",
       "      <th>city</th>\n",
       "      <th>date</th>\n",
       "      <th>team1</th>\n",
       "      <th>team2</th>\n",
       "      <th>toss_winner</th>\n",
       "      <th>toss_decision</th>\n",
       "      <th>result</th>\n",
       "      <th>dl_applied</th>\n",
       "      <th>winner</th>\n",
       "      <th>win_by_runs</th>\n",
       "      <th>win_by_wickets</th>\n",
       "      <th>player_of_match</th>\n",
       "      <th>venue</th>\n",
       "      <th>umpire1</th>\n",
       "      <th>umpire2</th>\n",
       "      <th>umpire3</th>\n",
       "    </tr>\n",
       "  </thead>\n",
       "  <tbody>\n",
       "    <tr>\n",
       "      <th>0</th>\n",
       "      <td>1</td>\n",
       "      <td>2017</td>\n",
       "      <td>Hyderabad</td>\n",
       "      <td>2017-04-05</td>\n",
       "      <td>Sunrisers Hyderabad</td>\n",
       "      <td>Royal Challengers Bangalore</td>\n",
       "      <td>Royal Challengers Bangalore</td>\n",
       "      <td>field</td>\n",
       "      <td>normal</td>\n",
       "      <td>0</td>\n",
       "      <td>Sunrisers Hyderabad</td>\n",
       "      <td>35</td>\n",
       "      <td>0</td>\n",
       "      <td>Yuvraj Singh</td>\n",
       "      <td>Rajiv Gandhi International Stadium, Uppal</td>\n",
       "      <td>AY Dandekar</td>\n",
       "      <td>NJ Llong</td>\n",
       "      <td>NaN</td>\n",
       "    </tr>\n",
       "    <tr>\n",
       "      <th>1</th>\n",
       "      <td>2</td>\n",
       "      <td>2017</td>\n",
       "      <td>Pune</td>\n",
       "      <td>2017-04-06</td>\n",
       "      <td>Mumbai Indians</td>\n",
       "      <td>Rising Pune Supergiant</td>\n",
       "      <td>Rising Pune Supergiant</td>\n",
       "      <td>field</td>\n",
       "      <td>normal</td>\n",
       "      <td>0</td>\n",
       "      <td>Rising Pune Supergiant</td>\n",
       "      <td>0</td>\n",
       "      <td>7</td>\n",
       "      <td>SPD Smith</td>\n",
       "      <td>Maharashtra Cricket Association Stadium</td>\n",
       "      <td>A Nand Kishore</td>\n",
       "      <td>S Ravi</td>\n",
       "      <td>NaN</td>\n",
       "    </tr>\n",
       "    <tr>\n",
       "      <th>2</th>\n",
       "      <td>3</td>\n",
       "      <td>2017</td>\n",
       "      <td>Rajkot</td>\n",
       "      <td>2017-04-07</td>\n",
       "      <td>Gujarat Lions</td>\n",
       "      <td>Kolkata Knight Riders</td>\n",
       "      <td>Kolkata Knight Riders</td>\n",
       "      <td>field</td>\n",
       "      <td>normal</td>\n",
       "      <td>0</td>\n",
       "      <td>Kolkata Knight Riders</td>\n",
       "      <td>0</td>\n",
       "      <td>10</td>\n",
       "      <td>CA Lynn</td>\n",
       "      <td>Saurashtra Cricket Association Stadium</td>\n",
       "      <td>Nitin Menon</td>\n",
       "      <td>CK Nandan</td>\n",
       "      <td>NaN</td>\n",
       "    </tr>\n",
       "    <tr>\n",
       "      <th>3</th>\n",
       "      <td>4</td>\n",
       "      <td>2017</td>\n",
       "      <td>Indore</td>\n",
       "      <td>2017-04-08</td>\n",
       "      <td>Rising Pune Supergiant</td>\n",
       "      <td>Kings XI Punjab</td>\n",
       "      <td>Kings XI Punjab</td>\n",
       "      <td>field</td>\n",
       "      <td>normal</td>\n",
       "      <td>0</td>\n",
       "      <td>Kings XI Punjab</td>\n",
       "      <td>0</td>\n",
       "      <td>6</td>\n",
       "      <td>GJ Maxwell</td>\n",
       "      <td>Holkar Cricket Stadium</td>\n",
       "      <td>AK Chaudhary</td>\n",
       "      <td>C Shamshuddin</td>\n",
       "      <td>NaN</td>\n",
       "    </tr>\n",
       "    <tr>\n",
       "      <th>4</th>\n",
       "      <td>5</td>\n",
       "      <td>2017</td>\n",
       "      <td>Bangalore</td>\n",
       "      <td>2017-04-08</td>\n",
       "      <td>Royal Challengers Bangalore</td>\n",
       "      <td>Delhi Daredevils</td>\n",
       "      <td>Royal Challengers Bangalore</td>\n",
       "      <td>bat</td>\n",
       "      <td>normal</td>\n",
       "      <td>0</td>\n",
       "      <td>Royal Challengers Bangalore</td>\n",
       "      <td>15</td>\n",
       "      <td>0</td>\n",
       "      <td>KM Jadhav</td>\n",
       "      <td>M Chinnaswamy Stadium</td>\n",
       "      <td>NaN</td>\n",
       "      <td>NaN</td>\n",
       "      <td>NaN</td>\n",
       "    </tr>\n",
       "  </tbody>\n",
       "</table>\n",
       "</div>"
      ],
      "text/plain": [
       "   id  season       city        date                        team1  \\\n",
       "0   1    2017  Hyderabad  2017-04-05          Sunrisers Hyderabad   \n",
       "1   2    2017       Pune  2017-04-06               Mumbai Indians   \n",
       "2   3    2017     Rajkot  2017-04-07                Gujarat Lions   \n",
       "3   4    2017     Indore  2017-04-08       Rising Pune Supergiant   \n",
       "4   5    2017  Bangalore  2017-04-08  Royal Challengers Bangalore   \n",
       "\n",
       "                         team2                  toss_winner toss_decision  \\\n",
       "0  Royal Challengers Bangalore  Royal Challengers Bangalore         field   \n",
       "1       Rising Pune Supergiant       Rising Pune Supergiant         field   \n",
       "2        Kolkata Knight Riders        Kolkata Knight Riders         field   \n",
       "3              Kings XI Punjab              Kings XI Punjab         field   \n",
       "4             Delhi Daredevils  Royal Challengers Bangalore           bat   \n",
       "\n",
       "   result  dl_applied                       winner  win_by_runs  \\\n",
       "0  normal           0          Sunrisers Hyderabad           35   \n",
       "1  normal           0       Rising Pune Supergiant            0   \n",
       "2  normal           0        Kolkata Knight Riders            0   \n",
       "3  normal           0              Kings XI Punjab            0   \n",
       "4  normal           0  Royal Challengers Bangalore           15   \n",
       "\n",
       "   win_by_wickets player_of_match                                      venue  \\\n",
       "0               0    Yuvraj Singh  Rajiv Gandhi International Stadium, Uppal   \n",
       "1               7       SPD Smith    Maharashtra Cricket Association Stadium   \n",
       "2              10         CA Lynn     Saurashtra Cricket Association Stadium   \n",
       "3               6      GJ Maxwell                     Holkar Cricket Stadium   \n",
       "4               0       KM Jadhav                      M Chinnaswamy Stadium   \n",
       "\n",
       "          umpire1        umpire2  umpire3  \n",
       "0     AY Dandekar       NJ Llong      NaN  \n",
       "1  A Nand Kishore         S Ravi      NaN  \n",
       "2     Nitin Menon      CK Nandan      NaN  \n",
       "3    AK Chaudhary  C Shamshuddin      NaN  \n",
       "4             NaN            NaN      NaN  "
      ]
     },
     "execution_count": 2,
     "metadata": {},
     "output_type": "execute_result"
    }
   ],
   "source": [
    "matches = pd.read_csv('matches.csv')\n",
    "matches.head()"
   ]
  },
  {
   "cell_type": "code",
   "execution_count": 3,
   "metadata": {},
   "outputs": [
    {
     "data": {
      "text/html": [
       "<div>\n",
       "<style scoped>\n",
       "    .dataframe tbody tr th:only-of-type {\n",
       "        vertical-align: middle;\n",
       "    }\n",
       "\n",
       "    .dataframe tbody tr th {\n",
       "        vertical-align: top;\n",
       "    }\n",
       "\n",
       "    .dataframe thead th {\n",
       "        text-align: right;\n",
       "    }\n",
       "</style>\n",
       "<table border=\"1\" class=\"dataframe\">\n",
       "  <thead>\n",
       "    <tr style=\"text-align: right;\">\n",
       "      <th></th>\n",
       "      <th>id</th>\n",
       "      <th>season</th>\n",
       "      <th>dl_applied</th>\n",
       "      <th>win_by_runs</th>\n",
       "      <th>win_by_wickets</th>\n",
       "      <th>umpire3</th>\n",
       "    </tr>\n",
       "  </thead>\n",
       "  <tbody>\n",
       "    <tr>\n",
       "      <th>count</th>\n",
       "      <td>636.000000</td>\n",
       "      <td>636.000000</td>\n",
       "      <td>636.000000</td>\n",
       "      <td>636.000000</td>\n",
       "      <td>636.000000</td>\n",
       "      <td>0.0</td>\n",
       "    </tr>\n",
       "    <tr>\n",
       "      <th>mean</th>\n",
       "      <td>318.500000</td>\n",
       "      <td>2012.490566</td>\n",
       "      <td>0.025157</td>\n",
       "      <td>13.682390</td>\n",
       "      <td>3.372642</td>\n",
       "      <td>NaN</td>\n",
       "    </tr>\n",
       "    <tr>\n",
       "      <th>std</th>\n",
       "      <td>183.741666</td>\n",
       "      <td>2.773026</td>\n",
       "      <td>0.156726</td>\n",
       "      <td>23.908877</td>\n",
       "      <td>3.420338</td>\n",
       "      <td>NaN</td>\n",
       "    </tr>\n",
       "    <tr>\n",
       "      <th>min</th>\n",
       "      <td>1.000000</td>\n",
       "      <td>2008.000000</td>\n",
       "      <td>0.000000</td>\n",
       "      <td>0.000000</td>\n",
       "      <td>0.000000</td>\n",
       "      <td>NaN</td>\n",
       "    </tr>\n",
       "    <tr>\n",
       "      <th>25%</th>\n",
       "      <td>159.750000</td>\n",
       "      <td>2010.000000</td>\n",
       "      <td>0.000000</td>\n",
       "      <td>0.000000</td>\n",
       "      <td>0.000000</td>\n",
       "      <td>NaN</td>\n",
       "    </tr>\n",
       "    <tr>\n",
       "      <th>50%</th>\n",
       "      <td>318.500000</td>\n",
       "      <td>2012.000000</td>\n",
       "      <td>0.000000</td>\n",
       "      <td>0.000000</td>\n",
       "      <td>4.000000</td>\n",
       "      <td>NaN</td>\n",
       "    </tr>\n",
       "    <tr>\n",
       "      <th>75%</th>\n",
       "      <td>477.250000</td>\n",
       "      <td>2015.000000</td>\n",
       "      <td>0.000000</td>\n",
       "      <td>20.000000</td>\n",
       "      <td>7.000000</td>\n",
       "      <td>NaN</td>\n",
       "    </tr>\n",
       "    <tr>\n",
       "      <th>max</th>\n",
       "      <td>636.000000</td>\n",
       "      <td>2017.000000</td>\n",
       "      <td>1.000000</td>\n",
       "      <td>146.000000</td>\n",
       "      <td>10.000000</td>\n",
       "      <td>NaN</td>\n",
       "    </tr>\n",
       "  </tbody>\n",
       "</table>\n",
       "</div>"
      ],
      "text/plain": [
       "               id       season  dl_applied  win_by_runs  win_by_wickets  \\\n",
       "count  636.000000   636.000000  636.000000   636.000000      636.000000   \n",
       "mean   318.500000  2012.490566    0.025157    13.682390        3.372642   \n",
       "std    183.741666     2.773026    0.156726    23.908877        3.420338   \n",
       "min      1.000000  2008.000000    0.000000     0.000000        0.000000   \n",
       "25%    159.750000  2010.000000    0.000000     0.000000        0.000000   \n",
       "50%    318.500000  2012.000000    0.000000     0.000000        4.000000   \n",
       "75%    477.250000  2015.000000    0.000000    20.000000        7.000000   \n",
       "max    636.000000  2017.000000    1.000000   146.000000       10.000000   \n",
       "\n",
       "       umpire3  \n",
       "count      0.0  \n",
       "mean       NaN  \n",
       "std        NaN  \n",
       "min        NaN  \n",
       "25%        NaN  \n",
       "50%        NaN  \n",
       "75%        NaN  \n",
       "max        NaN  "
      ]
     },
     "execution_count": 3,
     "metadata": {},
     "output_type": "execute_result"
    }
   ],
   "source": [
    "matches.describe()"
   ]
  },
  {
   "cell_type": "code",
   "execution_count": 4,
   "metadata": {
    "colab": {
     "base_uri": "https://localhost:8080/",
     "height": 521
    },
    "executionInfo": {
     "elapsed": 2393,
     "status": "ok",
     "timestamp": 1613102798942,
     "user": {
      "displayName": "Sai Dinesh",
      "photoUrl": "https://lh3.googleusercontent.com/a-/AOh14GjSnJYjr8OycbPrnsN2ArvBt4eBLcPF6VJy3ucWzg=s64",
      "userId": "11814115639164174022"
     },
     "user_tz": -330
    },
    "id": "3qqYyxWZFDiz",
    "outputId": "ac450b73-c66b-4bab-ecb7-3c47ec21e27e"
   },
   "outputs": [
    {
     "name": "stdout",
     "output_type": "stream",
     "text": [
      "1      8\n",
      "2      7\n",
      "3      4\n",
      "4      7\n",
      "5      5\n",
      "      ..\n",
      "130    1\n",
      "138    1\n",
      "140    1\n",
      "144    1\n",
      "146    1\n",
      "Name: win_by_runs, Length: 85, dtype: int64\n"
     ]
    }
   ],
   "source": [
    "#Returns win_by_runs data where win_by_runs is greater than zero\n",
    "win_by_runs_data = matches[matches.win_by_runs > 0].win_by_runs\n",
    "\n",
    "#Return a Series containing counts of unique rows in the DataFrame.\n",
    "win_by_runs_freq = win_by_runs_data.value_counts(sort=False)\n",
    "\n",
    "print(win_by_runs_freq)"
   ]
  },
  {
   "cell_type": "code",
   "execution_count": 5,
   "metadata": {},
   "outputs": [
    {
     "data": {
      "text/plain": [
       "Text(0, 0.5, 'Frequency')"
      ]
     },
     "execution_count": 5,
     "metadata": {},
     "output_type": "execute_result"
    },
    {
     "data": {
      "image/png": "[encoded data removed]",
      "text/plain": [
       "<Figure size 432x288 with 1 Axes>"
      ]
     },
     "metadata": {
      "needs_background": "light"
     },
     "output_type": "display_data"
    }
   ],
   "source": [
    "plt = win_by_runs_freq.plot.bar()\n",
    "plt.set_title(\"Frequency distribution Graph - Win by Runs\")\n",
    "plt.set_xlabel(\"win by runs\")\n",
    "plt.set_ylabel(\"Frequency\")"
   ]
  },
  {
   "cell_type": "code",
   "execution_count": 6,
   "metadata": {
    "colab": {
     "base_uri": "https://localhost:8080/",
     "height": 499
    },
    "executionInfo": {
     "elapsed": 1430,
     "status": "ok",
     "timestamp": 1613102802362,
     "user": {
      "displayName": "Sai Dinesh",
      "photoUrl": "https://lh3.googleusercontent.com/a-/AOh14GjSnJYjr8OycbPrnsN2ArvBt4eBLcPF6VJy3ucWzg=s64",
      "userId": "11814115639164174022"
     },
     "user_tz": -330
    },
    "id": "VNqI19bWJJ57",
    "outputId": "659c5e5a-50e4-4e2b-e89c-444d2fb01270"
   },
   "outputs": [
    {
     "name": "stdout",
     "output_type": "stream",
     "text": [
      "1      1\n",
      "2      4\n",
      "3     15\n",
      "4     34\n",
      "5     57\n",
      "6     68\n",
      "7     70\n",
      "8     48\n",
      "9     32\n",
      "10    10\n",
      "Name: win_by_wickets, dtype: int64\n"
     ]
    }
   ],
   "source": [
    "#Returns win_by_wickets_data data where win_by_wickets_data is greater than zero\n",
    "win_by_wickets_data = matches[matches.win_by_wickets > 0].win_by_wickets\n",
    "\n",
    "#Return a Series containing counts of unique rows in the DataFrame.\n",
    "win_by_wickets_freq = win_by_wickets_data.value_counts(sort=False)\n",
    "\n",
    "print(win_by_wickets_freq)"
   ]
  },
  {
   "cell_type": "code",
   "execution_count": 7,
   "metadata": {},
   "outputs": [
    {
     "data": {
      "text/plain": [
       "Text(0, 0.5, 'Frequency')"
      ]
     },
     "execution_count": 7,
     "metadata": {},
     "output_type": "execute_result"
    },
    {
     "data": {
      "image/png": "[encoded data removed]",
      "text/plain": [
       "<Figure size 432x288 with 1 Axes>"
      ]
     },
     "metadata": {
      "needs_background": "light"
     },
     "output_type": "display_data"
    }
   ],
   "source": [
    "plt = win_by_wickets_freq.plot.bar()\n",
    "plt.set_title(\"Frequency distribution Graph - Win by wickets\")\n",
    "plt.set_xlabel(\"win by wickets\")\n",
    "plt.set_ylabel(\"Frequency\")"
   ]
  },
  {
   "cell_type": "code",
   "execution_count": 8,
   "metadata": {
    "colab": {
     "base_uri": "https://localhost:8080/",
     "height": 521
    },
    "executionInfo": {
     "elapsed": 2684,
     "status": "ok",
     "timestamp": 1613102806710,
     "user": {
      "displayName": "Sai Dinesh",
      "photoUrl": "https://lh3.googleusercontent.com/a-/AOh14GjSnJYjr8OycbPrnsN2ArvBt4eBLcPF6VJy3ucWzg=s64",
      "userId": "11814115639164174022"
     },
     "user_tz": -330
    },
    "id": "FBh-y3bHHivW",
    "outputId": "3dbc2c06-73eb-4f9d-92a7-ae200d64c170"
   },
   "outputs": [
    {
     "name": "stdout",
     "output_type": "stream",
     "text": [
      "1      0.027875\n",
      "2      0.024390\n",
      "3      0.013937\n",
      "4      0.024390\n",
      "5      0.017422\n",
      "         ...   \n",
      "130    0.003484\n",
      "138    0.003484\n",
      "140    0.003484\n",
      "144    0.003484\n",
      "146    0.003484\n",
      "Name: win_by_runs, Length: 85, dtype: float64\n"
     ]
    }
   ],
   "source": [
    "#normalize tag returns proportions rather than frequencies.\n",
    "win_by_runs_rel_freq = win_by_runs_data.value_counts(sort = False , normalize=True)\n",
    "\n",
    "print(win_by_runs_rel_freq)"
   ]
  },
  {
   "cell_type": "code",
   "execution_count": 9,
   "metadata": {},
   "outputs": [
    {
     "data": {
      "text/plain": [
       "Text(0, 0.5, 'Relative frequency ')"
      ]
     },
     "execution_count": 9,
     "metadata": {},
     "output_type": "execute_result"
    },
    {
     "data": {
      "image/png": "[encoded data removed]",
      "text/plain": [
       "<Figure size 432x288 with 1 Axes>"
      ]
     },
     "metadata": {
      "needs_background": "light"
     },
     "output_type": "display_data"
    }
   ],
   "source": [
    "plt = win_by_runs_rel_freq.plot.bar()\n",
    "plt.set_title(\"relative frequency distribution graph -win by runs\")\n",
    "plt.set_xlabel(\"win by runs\")\n",
    "plt.set_ylabel(\"Relative frequency \")"
   ]
  },
  {
   "cell_type": "code",
   "execution_count": 10,
   "metadata": {
    "colab": {
     "base_uri": "https://localhost:8080/",
     "height": 499
    },
    "executionInfo": {
     "elapsed": 1420,
     "status": "ok",
     "timestamp": 1613102809802,
     "user": {
      "displayName": "Sai Dinesh",
      "photoUrl": "https://lh3.googleusercontent.com/a-/AOh14GjSnJYjr8OycbPrnsN2ArvBt4eBLcPF6VJy3ucWzg=s64",
      "userId": "11814115639164174022"
     },
     "user_tz": -330
    },
    "id": "__s9QockIqQj",
    "outputId": "2d78a278-c1e0-4ff4-980c-dd8643e69baa"
   },
   "outputs": [
    {
     "name": "stdout",
     "output_type": "stream",
     "text": [
      "1     0.002950\n",
      "2     0.011799\n",
      "3     0.044248\n",
      "4     0.100295\n",
      "5     0.168142\n",
      "6     0.200590\n",
      "7     0.206490\n",
      "8     0.141593\n",
      "9     0.094395\n",
      "10    0.029499\n",
      "Name: win_by_wickets, dtype: float64\n"
     ]
    }
   ],
   "source": [
    "#normalize tag returns proportions rather than frequencies.\n",
    "win_by_wickets_rel_freq = win_by_wickets_data.value_counts(sort = False , normalize=True)\n",
    "\n",
    "print(win_by_wickets_rel_freq)"
   ]
  },
  {
   "cell_type": "code",
   "execution_count": 11,
   "metadata": {},
   "outputs": [
    {
     "data": {
      "text/plain": [
       "Text(0, 0.5, 'Relative frequency ')"
      ]
     },
     "execution_count": 11,
     "metadata": {},
     "output_type": "execute_result"
    },
    {
     "data": {
      "image/png": "[encoded data removed]",
      "text/plain": [
       "<Figure size 432x288 with 1 Axes>"
      ]
     },
     "metadata": {
      "needs_background": "light"
     },
     "output_type": "display_data"
    }
   ],
   "source": [
    "plt = win_by_wickets_rel_freq.plot.bar()\n",
    "plt.set_title(\"relative frequency distribution graph -win by wickets\")\n",
    "plt.set_xlabel(\"win by runs\")\n",
    "plt.set_ylabel(\"Relative frequency \")"
   ]
  },
  {
   "cell_type": "code",
   "execution_count": 12,
   "metadata": {
    "colab": {
     "base_uri": "https://localhost:8080/",
     "height": 521
    },
    "executionInfo": {
     "elapsed": 2795,
     "status": "ok",
     "timestamp": 1613102814564,
     "user": {
      "displayName": "Sai Dinesh",
      "photoUrl": "https://lh3.googleusercontent.com/a-/AOh14GjSnJYjr8OycbPrnsN2ArvBt4eBLcPF6VJy3ucWzg=s64",
      "userId": "11814115639164174022"
     },
     "user_tz": -330
    },
    "id": "fWNvEGmRLcsr",
    "outputId": "f97e1edb-edba-4010-e9fe-e3dae44d2988"
   },
   "outputs": [
    {
     "name": "stdout",
     "output_type": "stream",
     "text": [
      "1      0.027875\n",
      "2      0.052265\n",
      "3      0.066202\n",
      "4      0.090592\n",
      "5      0.108014\n",
      "         ...   \n",
      "130    0.986063\n",
      "138    0.989547\n",
      "140    0.993031\n",
      "144    0.996516\n",
      "146    1.000000\n",
      "Name: win_by_runs, Length: 85, dtype: float64\n"
     ]
    }
   ],
   "source": [
    "# cumsum = cumulative sum\n",
    "win_by_runs_cumulative_freq = win_by_runs_data.value_counts(sort=False , normalize =True).cumsum()\n",
    "print(win_by_runs_cumulative_freq)"
   ]
  },
  {
   "cell_type": "code",
   "execution_count": 13,
   "metadata": {},
   "outputs": [
    {
     "data": {
      "text/plain": [
       "Text(0, 0.5, 'Cumulative relative freq')"
      ]
     },
     "execution_count": 13,
     "metadata": {},
     "output_type": "execute_result"
    },
    {
     "data": {
      "image/png": "[encoded data removed]",
      "text/plain": [
       "<Figure size 432x288 with 1 Axes>"
      ]
     },
     "metadata": {
      "needs_background": "light"
     },
     "output_type": "display_data"
    }
   ],
   "source": [
    "plt = win_by_runs_cumulative_freq.plot.bar()\n",
    "plt.set_title(\"cumulative rel frequency distri graph - Win by runs\")\n",
    "plt.set_xlabel(\"win b runs\")\n",
    "plt.set_ylabel(\"Cumulative relative freq\")"
   ]
  },
  {
   "cell_type": "code",
   "execution_count": 14,
   "metadata": {
    "colab": {
     "base_uri": "https://localhost:8080/",
     "height": 499
    },
    "executionInfo": {
     "elapsed": 678,
     "status": "ok",
     "timestamp": 1613102816434,
     "user": {
      "displayName": "Sai Dinesh",
      "photoUrl": "https://lh3.googleusercontent.com/a-/AOh14GjSnJYjr8OycbPrnsN2ArvBt4eBLcPF6VJy3ucWzg=s64",
      "userId": "11814115639164174022"
     },
     "user_tz": -330
    },
    "id": "1833grFoMzdS",
    "outputId": "de7f8f77-d12c-4339-d095-7f5e21b06eff"
   },
   "outputs": [
    {
     "name": "stdout",
     "output_type": "stream",
     "text": [
      "1     0.002950\n",
      "2     0.014749\n",
      "3     0.058997\n",
      "4     0.159292\n",
      "5     0.327434\n",
      "6     0.528024\n",
      "7     0.734513\n",
      "8     0.876106\n",
      "9     0.970501\n",
      "10    1.000000\n",
      "Name: win_by_wickets, dtype: float64\n"
     ]
    }
   ],
   "source": [
    "win_by_wickets_cumulative_freq = win_by_wickets_data.value_counts(sort=False , normalize =True).cumsum()\n",
    "print(win_by_wickets_cumulative_freq)"
   ]
  },
  {
   "cell_type": "code",
   "execution_count": 15,
   "metadata": {},
   "outputs": [
    {
     "data": {
      "text/plain": [
       "Text(0, 0.5, 'Cumulative relative freq')"
      ]
     },
     "execution_count": 15,
     "metadata": {},
     "output_type": "execute_result"
    },
    {
     "data": {
      "image/png": "[encoded data removed]",
      "text/plain": [
       "<Figure size 432x288 with 1 Axes>"
      ]
     },
     "metadata": {
      "needs_background": "light"
     },
     "output_type": "display_data"
    }
   ],
   "source": [
    "plt = win_by_wickets_cumulative_freq.plot.bar()\n",
    "plt.set_title(\"cumulative rel frequency distri graph - Win by wickets\")\n",
    "plt.set_xlabel(\"win by wickets\")\n",
    "plt.set_ylabel(\"Cumulative relative freq\")"
   ]
  },
  {
   "cell_type": "markdown",
   "metadata": {},
   "source": [
    "# Bell curve or Gaussian distribution"
   ]
  },
  {
   "cell_type": "code",
   "execution_count": 16,
   "metadata": {
    "colab": {
     "base_uri": "https://localhost:8080/",
     "height": 281
    },
    "executionInfo": {
     "elapsed": 807,
     "status": "ok",
     "timestamp": 1613103489313,
     "user": {
      "displayName": "Sai Dinesh",
      "photoUrl": "https://lh3.googleusercontent.com/a-/AOh14GjSnJYjr8OycbPrnsN2ArvBt4eBLcPF6VJy3ucWzg=s64",
      "userId": "11814115639164174022"
     },
     "user_tz": -330
    },
    "id": "DUvId-0hNDpw",
    "outputId": "dfdc7f6b-8e84-4fab-8ef6-f31b55fea941"
   },
   "outputs": [
    {
     "data": {
      "text/plain": [
       "[<matplotlib.lines.Line2D at 0x7f002d97f2d0>]"
      ]
     },
     "execution_count": 16,
     "metadata": {},
     "output_type": "execute_result"
    },
    {
     "data": {
      "image/png": "[encoded data removed]",
      "text/plain": [
       "<Figure size 432x288 with 1 Axes>"
      ]
     },
     "metadata": {
      "needs_background": "light"
     },
     "output_type": "display_data"
    }
   ],
   "source": [
    "#The standard deviation is the square root of the average of the squared deviations from the mean\n",
    "win_by_runs_mean,win_by_runs_std = win_by_runs_data.mean(),win_by_runs_data.std()\n",
    "\n",
    "# Plot histogram (normalized) - LIGHT-BLUE\n",
    "win_by_runs_data.hist(color='lightblue',weights=np.zeros_like(win_by_runs_data) + 1.0/win_by_runs_data.count())\n",
    "\n",
    "# Plot line graph - RED\n",
    "win_by_runs_data.value_counts(sort=False, normalize=True).plot.line(color='red')\n",
    "\n",
    "# Normal distribution for random points between 1 to 10 with mean, std.\n",
    "random_data=np.arange(1,146,0.01)\n",
    "pyplot.plot(random_data,stats.norm.pdf(random_data,win_by_runs_mean,win_by_runs_std),color='green')"
   ]
  },
  {
   "cell_type": "code",
   "execution_count": 17,
   "metadata": {},
   "outputs": [
    {
     "data": {
      "text/plain": [
       "[<matplotlib.lines.Line2D at 0x7f002d8a70d0>]"
      ]
     },
     "execution_count": 17,
     "metadata": {},
     "output_type": "execute_result"
    },
    {
     "data": {
      "image/png": "[encoded data removed]",
      "text/plain": [
       "<Figure size 432x288 with 1 Axes>"
      ]
     },
     "metadata": {
      "needs_background": "light"
     },
     "output_type": "display_data"
    }
   ],
   "source": [
    "#The standard deviation is the square root of the average of the squared deviations from the mean\n",
    "win_by_wickets_mean, win_by_wickets_std = win_by_wickets_data.mean(), win_by_wickets_data.std()\n",
    "\n",
    "# Plot histogram (normalized) - LIGHT-BLUE\n",
    "win_by_wickets_data.hist(color='lightblue', weights = np.zeros_like(win_by_wickets_data) + 1.0 / win_by_wickets_data.count())\n",
    "\n",
    "# Plot line graph - RED\n",
    "win_by_wickets_data.value_counts(sort=False, normalize=True).plot.line(color='red')\n",
    "\n",
    "# Normal distribution for random points between 1 to 10 with mean, std.\n",
    "random_data = np.arange(1, 10, 0.001)\n",
    "pyplot.plot(random_data, stats.norm.pdf(random_data, win_by_wickets_mean, win_by_wickets_std), color='green')"
   ]
  }
 ],
 "metadata": {
  "colab": {
   "authorship_tag": "ABX9TyOpkwlcaRihjiFguk0mdE1q",
   "collapsed_sections": [],
   "name": "Ds(Skill-5).ipynb",
   "provenance": []
  },
  "kernelspec": {
   "display_name": "Python 3",
   "language": "python",
   "name": "python3"
  },
  "language_info": {
   "codemirror_mode": {
    "name": "ipython",
    "version": 3
   },
   "file_extension": ".py",
   "mimetype": "text/x-python",
   "name": "python",
   "nbconvert_exporter": "python",
   "pygments_lexer": "ipython3",
   "version": "3.7.8"
  }
 },
 "nbformat": 4,
 "nbformat_minor": 1
}
