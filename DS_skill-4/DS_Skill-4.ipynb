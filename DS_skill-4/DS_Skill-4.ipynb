{
  "cells": [
    {
      "cell_type": "markdown",
      "source": [
        "# 190031920\n",
        "# A Nikhil Reddy\n",
        "# DS Skill 4a"
      ],
      "metadata": {}
    },
    {
      "cell_type": "code",
      "source": [
        "import pandas as pd\n",
        "import numpy as np\n",
        "import matplotlib.pyplot as plt\n",
        "import seaborn as sns\n",
        "\n",
        "import warnings\n",
        "warnings.filterwarnings(\"ignore\")"
      ],
      "execution_count": 1,
      "outputs": [],
      "metadata": {}
    },
    {
      "cell_type": "code",
      "source": [
        "pd.options.display.float_format = '{:.5f}'.format\n",
        "pd.options.display.max_columns=None\n",
        "pd.options.display.max_rows=None\n",
        "np.random.seed(100)"
      ],
      "execution_count": 2,
      "outputs": [],
      "metadata": {}
    },
    {
      "cell_type": "code",
      "source": [
        "day=pd.read_csv(\"day.csv\")\n",
        "day.head()"
      ],
      "execution_count": 3,
      "outputs": [
        {
          "data": {
            "text/html": [
              "<div>\n",
              "<style scoped>\n",
              "    .dataframe tbody tr th:only-of-type {\n",
              "        vertical-align: middle;\n",
              "    }\n",
              "\n",
              "    .dataframe tbody tr th {\n",
              "        vertical-align: top;\n",
              "    }\n",
              "\n",
              "    .dataframe thead th {\n",
              "        text-align: right;\n",
              "    }\n",
              "</style>\n",
              "<table border=\"1\" class=\"dataframe\">\n",
              "  <thead>\n",
              "    <tr style=\"text-align: right;\">\n",
              "      <th></th>\n",
              "      <th>instant</th>\n",
              "      <th>dteday</th>\n",
              "      <th>season</th>\n",
              "      <th>yr</th>\n",
              "      <th>mnth</th>\n",
              "      <th>holiday</th>\n",
              "      <th>weekday</th>\n",
              "      <th>workingday</th>\n",
              "      <th>weathersit</th>\n",
              "      <th>temp</th>\n",
              "      <th>atemp</th>\n",
              "      <th>hum</th>\n",
              "      <th>windspeed</th>\n",
              "      <th>casual</th>\n",
              "      <th>registered</th>\n",
              "      <th>cnt</th>\n",
              "    </tr>\n",
              "  </thead>\n",
              "  <tbody>\n",
              "    <tr>\n",
              "      <th>0</th>\n",
              "      <td>1</td>\n",
              "      <td>1/1/2011</td>\n",
              "      <td>1</td>\n",
              "      <td>0</td>\n",
              "      <td>1</td>\n",
              "      <td>0</td>\n",
              "      <td>6</td>\n",
              "      <td>0</td>\n",
              "      <td>2</td>\n",
              "      <td>0.34417</td>\n",
              "      <td>0.36362</td>\n",
              "      <td>0.80583</td>\n",
              "      <td>0.16045</td>\n",
              "      <td>331</td>\n",
              "      <td>654</td>\n",
              "      <td>985</td>\n",
              "    </tr>\n",
              "    <tr>\n",
              "      <th>1</th>\n",
              "      <td>2</td>\n",
              "      <td>1/2/2011</td>\n",
              "      <td>1</td>\n",
              "      <td>0</td>\n",
              "      <td>1</td>\n",
              "      <td>0</td>\n",
              "      <td>0</td>\n",
              "      <td>0</td>\n",
              "      <td>2</td>\n",
              "      <td>0.36348</td>\n",
              "      <td>0.35374</td>\n",
              "      <td>0.69609</td>\n",
              "      <td>0.24854</td>\n",
              "      <td>131</td>\n",
              "      <td>670</td>\n",
              "      <td>801</td>\n",
              "    </tr>\n",
              "    <tr>\n",
              "      <th>2</th>\n",
              "      <td>3</td>\n",
              "      <td>1/3/2011</td>\n",
              "      <td>1</td>\n",
              "      <td>0</td>\n",
              "      <td>1</td>\n",
              "      <td>0</td>\n",
              "      <td>1</td>\n",
              "      <td>1</td>\n",
              "      <td>1</td>\n",
              "      <td>0.19636</td>\n",
              "      <td>0.18940</td>\n",
              "      <td>0.43727</td>\n",
              "      <td>0.24831</td>\n",
              "      <td>120</td>\n",
              "      <td>1229</td>\n",
              "      <td>1349</td>\n",
              "    </tr>\n",
              "    <tr>\n",
              "      <th>3</th>\n",
              "      <td>4</td>\n",
              "      <td>1/4/2011</td>\n",
              "      <td>1</td>\n",
              "      <td>0</td>\n",
              "      <td>1</td>\n",
              "      <td>0</td>\n",
              "      <td>2</td>\n",
              "      <td>1</td>\n",
              "      <td>1</td>\n",
              "      <td>0.20000</td>\n",
              "      <td>0.21212</td>\n",
              "      <td>0.59044</td>\n",
              "      <td>0.16030</td>\n",
              "      <td>108</td>\n",
              "      <td>1454</td>\n",
              "      <td>1562</td>\n",
              "    </tr>\n",
              "    <tr>\n",
              "      <th>4</th>\n",
              "      <td>5</td>\n",
              "      <td>1/5/2011</td>\n",
              "      <td>1</td>\n",
              "      <td>0</td>\n",
              "      <td>1</td>\n",
              "      <td>0</td>\n",
              "      <td>3</td>\n",
              "      <td>1</td>\n",
              "      <td>1</td>\n",
              "      <td>0.22696</td>\n",
              "      <td>0.22927</td>\n",
              "      <td>0.43696</td>\n",
              "      <td>0.18690</td>\n",
              "      <td>82</td>\n",
              "      <td>1518</td>\n",
              "      <td>1600</td>\n",
              "    </tr>\n",
              "  </tbody>\n",
              "</table>\n",
              "</div>"
            ]
          },
          "metadata": {},
          "output_type": "display_data"
        }
      ],
      "metadata": {}
    },
    {
      "cell_type": "code",
      "source": [
        "hour=pd.read_csv(\"hour.csv\")\n",
        "hour.head()"
      ],
      "execution_count": 4,
      "outputs": [
        {
          "data": {
            "text/html": [
              "<div>\n",
              "<style scoped>\n",
              "    .dataframe tbody tr th:only-of-type {\n",
              "        vertical-align: middle;\n",
              "    }\n",
              "\n",
              "    .dataframe tbody tr th {\n",
              "        vertical-align: top;\n",
              "    }\n",
              "\n",
              "    .dataframe thead th {\n",
              "        text-align: right;\n",
              "    }\n",
              "</style>\n",
              "<table border=\"1\" class=\"dataframe\">\n",
              "  <thead>\n",
              "    <tr style=\"text-align: right;\">\n",
              "      <th></th>\n",
              "      <th>instant</th>\n",
              "      <th>dteday</th>\n",
              "      <th>season</th>\n",
              "      <th>yr</th>\n",
              "      <th>mnth</th>\n",
              "      <th>hr</th>\n",
              "      <th>holiday</th>\n",
              "      <th>weekday</th>\n",
              "      <th>workingday</th>\n",
              "      <th>weathersit</th>\n",
              "      <th>temp</th>\n",
              "      <th>atemp</th>\n",
              "      <th>hum</th>\n",
              "      <th>windspeed</th>\n",
              "      <th>casual</th>\n",
              "      <th>registered</th>\n",
              "      <th>cnt</th>\n",
              "    </tr>\n",
              "  </thead>\n",
              "  <tbody>\n",
              "    <tr>\n",
              "      <th>0</th>\n",
              "      <td>1</td>\n",
              "      <td>1/1/2011</td>\n",
              "      <td>1</td>\n",
              "      <td>0</td>\n",
              "      <td>1</td>\n",
              "      <td>0</td>\n",
              "      <td>0</td>\n",
              "      <td>6</td>\n",
              "      <td>0</td>\n",
              "      <td>1</td>\n",
              "      <td>0.24000</td>\n",
              "      <td>0.28790</td>\n",
              "      <td>0.81000</td>\n",
              "      <td>0.00000</td>\n",
              "      <td>3</td>\n",
              "      <td>13</td>\n",
              "      <td>16</td>\n",
              "    </tr>\n",
              "    <tr>\n",
              "      <th>1</th>\n",
              "      <td>2</td>\n",
              "      <td>1/1/2011</td>\n",
              "      <td>1</td>\n",
              "      <td>0</td>\n",
              "      <td>1</td>\n",
              "      <td>1</td>\n",
              "      <td>0</td>\n",
              "      <td>6</td>\n",
              "      <td>0</td>\n",
              "      <td>1</td>\n",
              "      <td>0.22000</td>\n",
              "      <td>0.27270</td>\n",
              "      <td>0.80000</td>\n",
              "      <td>0.00000</td>\n",
              "      <td>8</td>\n",
              "      <td>32</td>\n",
              "      <td>40</td>\n",
              "    </tr>\n",
              "    <tr>\n",
              "      <th>2</th>\n",
              "      <td>3</td>\n",
              "      <td>1/1/2011</td>\n",
              "      <td>1</td>\n",
              "      <td>0</td>\n",
              "      <td>1</td>\n",
              "      <td>2</td>\n",
              "      <td>0</td>\n",
              "      <td>6</td>\n",
              "      <td>0</td>\n",
              "      <td>1</td>\n",
              "      <td>0.22000</td>\n",
              "      <td>0.27270</td>\n",
              "      <td>0.80000</td>\n",
              "      <td>0.00000</td>\n",
              "      <td>5</td>\n",
              "      <td>27</td>\n",
              "      <td>32</td>\n",
              "    </tr>\n",
              "    <tr>\n",
              "      <th>3</th>\n",
              "      <td>4</td>\n",
              "      <td>1/1/2011</td>\n",
              "      <td>1</td>\n",
              "      <td>0</td>\n",
              "      <td>1</td>\n",
              "      <td>3</td>\n",
              "      <td>0</td>\n",
              "      <td>6</td>\n",
              "      <td>0</td>\n",
              "      <td>1</td>\n",
              "      <td>0.24000</td>\n",
              "      <td>0.28790</td>\n",
              "      <td>0.75000</td>\n",
              "      <td>0.00000</td>\n",
              "      <td>3</td>\n",
              "      <td>10</td>\n",
              "      <td>13</td>\n",
              "    </tr>\n",
              "    <tr>\n",
              "      <th>4</th>\n",
              "      <td>5</td>\n",
              "      <td>1/1/2011</td>\n",
              "      <td>1</td>\n",
              "      <td>0</td>\n",
              "      <td>1</td>\n",
              "      <td>4</td>\n",
              "      <td>0</td>\n",
              "      <td>6</td>\n",
              "      <td>0</td>\n",
              "      <td>1</td>\n",
              "      <td>0.24000</td>\n",
              "      <td>0.28790</td>\n",
              "      <td>0.75000</td>\n",
              "      <td>0.00000</td>\n",
              "      <td>0</td>\n",
              "      <td>1</td>\n",
              "      <td>1</td>\n",
              "    </tr>\n",
              "  </tbody>\n",
              "</table>\n",
              "</div>"
            ]
          },
          "metadata": {},
          "output_type": "display_data"
        }
      ],
      "metadata": {}
    },
    {
      "cell_type": "code",
      "source": [
        "day.isna().sum()"
      ],
      "execution_count": 5,
      "outputs": [
        {
          "data": {
            "text/plain": [
              "instant       0\n",
              "dteday        0\n",
              "season        0\n",
              "yr            0\n",
              "mnth          0\n",
              "holiday       0\n",
              "weekday       0\n",
              "workingday    0\n",
              "weathersit    0\n",
              "temp          0\n",
              "atemp         0\n",
              "hum           0\n",
              "windspeed     0\n",
              "casual        0\n",
              "registered    0\n",
              "cnt           0\n",
              "dtype: int64"
            ]
          },
          "metadata": {},
          "output_type": "display_data"
        }
      ],
      "metadata": {}
    },
    {
      "cell_type": "code",
      "source": [
        "hour.isna().sum()"
      ],
      "execution_count": 6,
      "outputs": [
        {
          "data": {
            "text/plain": [
              "instant       0\n",
              "dteday        0\n",
              "season        0\n",
              "yr            0\n",
              "mnth          0\n",
              "hr            0\n",
              "holiday       0\n",
              "weekday       0\n",
              "workingday    0\n",
              "weathersit    0\n",
              "temp          0\n",
              "atemp         0\n",
              "hum           0\n",
              "windspeed     0\n",
              "casual        0\n",
              "registered    0\n",
              "cnt           0\n",
              "dtype: int64"
            ]
          },
          "metadata": {},
          "output_type": "display_data"
        }
      ],
      "metadata": {}
    },
    {
      "cell_type": "code",
      "source": [
        "hour.info()"
      ],
      "execution_count": 7,
      "outputs": [
        {
          "name": "stdout",
          "text": [
            "<class 'pandas.core.frame.DataFrame'>\n",
            "RangeIndex: 17379 entries, 0 to 17378\n",
            "Data columns (total 17 columns):\n",
            " #   Column      Non-Null Count  Dtype  \n",
            "---  ------      --------------  -----  \n",
            " 0   instant     17379 non-null  int64  \n",
            " 1   dteday      17379 non-null  object \n",
            " 2   season      17379 non-null  int64  \n",
            " 3   yr          17379 non-null  int64  \n",
            " 4   mnth        17379 non-null  int64  \n",
            " 5   hr          17379 non-null  int64  \n",
            " 6   holiday     17379 non-null  int64  \n",
            " 7   weekday     17379 non-null  int64  \n",
            " 8   workingday  17379 non-null  int64  \n",
            " 9   weathersit  17379 non-null  int64  \n",
            " 10  temp        17379 non-null  float64\n",
            " 11  atemp       17379 non-null  float64\n",
            " 12  hum         17379 non-null  float64\n",
            " 13  windspeed   17379 non-null  float64\n",
            " 14  casual      17379 non-null  int64  \n",
            " 15  registered  17379 non-null  int64  \n",
            " 16  cnt         17379 non-null  int64  \n",
            "dtypes: float64(4), int64(12), object(1)\n",
            "memory usage: 2.3+ MB\n"
          ],
          "output_type": "stream"
        }
      ],
      "metadata": {}
    },
    {
      "cell_type": "code",
      "source": [
        "day.info()"
      ],
      "execution_count": 8,
      "outputs": [
        {
          "name": "stdout",
          "text": [
            "<class 'pandas.core.frame.DataFrame'>\n",
            "RangeIndex: 731 entries, 0 to 730\n",
            "Data columns (total 16 columns):\n",
            " #   Column      Non-Null Count  Dtype  \n",
            "---  ------      --------------  -----  \n",
            " 0   instant     731 non-null    int64  \n",
            " 1   dteday      731 non-null    object \n",
            " 2   season      731 non-null    int64  \n",
            " 3   yr          731 non-null    int64  \n",
            " 4   mnth        731 non-null    int64  \n",
            " 5   holiday     731 non-null    int64  \n",
            " 6   weekday     731 non-null    int64  \n",
            " 7   workingday  731 non-null    int64  \n",
            " 8   weathersit  731 non-null    int64  \n",
            " 9   temp        731 non-null    float64\n",
            " 10  atemp       731 non-null    float64\n",
            " 11  hum         731 non-null    float64\n",
            " 12  windspeed   731 non-null    float64\n",
            " 13  casual      731 non-null    int64  \n",
            " 14  registered  731 non-null    int64  \n",
            " 15  cnt         731 non-null    int64  \n",
            "dtypes: float64(4), int64(11), object(1)\n",
            "memory usage: 91.5+ KB\n"
          ],
          "output_type": "stream"
        }
      ],
      "metadata": {}
    },
    {
      "cell_type": "code",
      "source": [
        "day['temp'] = day['temp']*41\n",
        "day['atemp'] = day['atemp']*50\n",
        "day['hum'] = day['hum']*100\n",
        "day['windspeed'] = day['windspeed']*67\n",
        "hour['temp']= hour['temp']*41\n",
        "hour['atemp']= hour['atemp']*50\n",
        "hour['hum']= hour['hum']*100\n",
        "hour['windspeed']= hour['windspeed']*67\n",
        "\n",
        "hour.head()"
      ],
      "execution_count": 9,
      "outputs": [
        {
          "data": {
            "text/html": [
              "<div>\n",
              "<style scoped>\n",
              "    .dataframe tbody tr th:only-of-type {\n",
              "        vertical-align: middle;\n",
              "    }\n",
              "\n",
              "    .dataframe tbody tr th {\n",
              "        vertical-align: top;\n",
              "    }\n",
              "\n",
              "    .dataframe thead th {\n",
              "        text-align: right;\n",
              "    }\n",
              "</style>\n",
              "<table border=\"1\" class=\"dataframe\">\n",
              "  <thead>\n",
              "    <tr style=\"text-align: right;\">\n",
              "      <th></th>\n",
              "      <th>instant</th>\n",
              "      <th>dteday</th>\n",
              "      <th>season</th>\n",
              "      <th>yr</th>\n",
              "      <th>mnth</th>\n",
              "      <th>hr</th>\n",
              "      <th>holiday</th>\n",
              "      <th>weekday</th>\n",
              "      <th>workingday</th>\n",
              "      <th>weathersit</th>\n",
              "      <th>temp</th>\n",
              "      <th>atemp</th>\n",
              "      <th>hum</th>\n",
              "      <th>windspeed</th>\n",
              "      <th>casual</th>\n",
              "      <th>registered</th>\n",
              "      <th>cnt</th>\n",
              "    </tr>\n",
              "  </thead>\n",
              "  <tbody>\n",
              "    <tr>\n",
              "      <th>0</th>\n",
              "      <td>1</td>\n",
              "      <td>1/1/2011</td>\n",
              "      <td>1</td>\n",
              "      <td>0</td>\n",
              "      <td>1</td>\n",
              "      <td>0</td>\n",
              "      <td>0</td>\n",
              "      <td>6</td>\n",
              "      <td>0</td>\n",
              "      <td>1</td>\n",
              "      <td>9.84000</td>\n",
              "      <td>14.39500</td>\n",
              "      <td>81.00000</td>\n",
              "      <td>0.00000</td>\n",
              "      <td>3</td>\n",
              "      <td>13</td>\n",
              "      <td>16</td>\n",
              "    </tr>\n",
              "    <tr>\n",
              "      <th>1</th>\n",
              "      <td>2</td>\n",
              "      <td>1/1/2011</td>\n",
              "      <td>1</td>\n",
              "      <td>0</td>\n",
              "      <td>1</td>\n",
              "      <td>1</td>\n",
              "      <td>0</td>\n",
              "      <td>6</td>\n",
              "      <td>0</td>\n",
              "      <td>1</td>\n",
              "      <td>9.02000</td>\n",
              "      <td>13.63500</td>\n",
              "      <td>80.00000</td>\n",
              "      <td>0.00000</td>\n",
              "      <td>8</td>\n",
              "      <td>32</td>\n",
              "      <td>40</td>\n",
              "    </tr>\n",
              "    <tr>\n",
              "      <th>2</th>\n",
              "      <td>3</td>\n",
              "      <td>1/1/2011</td>\n",
              "      <td>1</td>\n",
              "      <td>0</td>\n",
              "      <td>1</td>\n",
              "      <td>2</td>\n",
              "      <td>0</td>\n",
              "      <td>6</td>\n",
              "      <td>0</td>\n",
              "      <td>1</td>\n",
              "      <td>9.02000</td>\n",
              "      <td>13.63500</td>\n",
              "      <td>80.00000</td>\n",
              "      <td>0.00000</td>\n",
              "      <td>5</td>\n",
              "      <td>27</td>\n",
              "      <td>32</td>\n",
              "    </tr>\n",
              "    <tr>\n",
              "      <th>3</th>\n",
              "      <td>4</td>\n",
              "      <td>1/1/2011</td>\n",
              "      <td>1</td>\n",
              "      <td>0</td>\n",
              "      <td>1</td>\n",
              "      <td>3</td>\n",
              "      <td>0</td>\n",
              "      <td>6</td>\n",
              "      <td>0</td>\n",
              "      <td>1</td>\n",
              "      <td>9.84000</td>\n",
              "      <td>14.39500</td>\n",
              "      <td>75.00000</td>\n",
              "      <td>0.00000</td>\n",
              "      <td>3</td>\n",
              "      <td>10</td>\n",
              "      <td>13</td>\n",
              "    </tr>\n",
              "    <tr>\n",
              "      <th>4</th>\n",
              "      <td>5</td>\n",
              "      <td>1/1/2011</td>\n",
              "      <td>1</td>\n",
              "      <td>0</td>\n",
              "      <td>1</td>\n",
              "      <td>4</td>\n",
              "      <td>0</td>\n",
              "      <td>6</td>\n",
              "      <td>0</td>\n",
              "      <td>1</td>\n",
              "      <td>9.84000</td>\n",
              "      <td>14.39500</td>\n",
              "      <td>75.00000</td>\n",
              "      <td>0.00000</td>\n",
              "      <td>0</td>\n",
              "      <td>1</td>\n",
              "      <td>1</td>\n",
              "    </tr>\n",
              "  </tbody>\n",
              "</table>\n",
              "</div>"
            ]
          },
          "metadata": {},
          "output_type": "display_data"
        }
      ],
      "metadata": {}
    },
    {
      "cell_type": "code",
      "source": [
        "day.describe().T"
      ],
      "execution_count": 10,
      "outputs": [
        {
          "data": {
            "text/html": [
              "<div>\n",
              "<style scoped>\n",
              "    .dataframe tbody tr th:only-of-type {\n",
              "        vertical-align: middle;\n",
              "    }\n",
              "\n",
              "    .dataframe tbody tr th {\n",
              "        vertical-align: top;\n",
              "    }\n",
              "\n",
              "    .dataframe thead th {\n",
              "        text-align: right;\n",
              "    }\n",
              "</style>\n",
              "<table border=\"1\" class=\"dataframe\">\n",
              "  <thead>\n",
              "    <tr style=\"text-align: right;\">\n",
              "      <th></th>\n",
              "      <th>count</th>\n",
              "      <th>mean</th>\n",
              "      <th>std</th>\n",
              "      <th>min</th>\n",
              "      <th>25%</th>\n",
              "      <th>50%</th>\n",
              "      <th>75%</th>\n",
              "      <th>max</th>\n",
              "    </tr>\n",
              "  </thead>\n",
              "  <tbody>\n",
              "    <tr>\n",
              "      <th>instant</th>\n",
              "      <td>731.00000</td>\n",
              "      <td>366.00000</td>\n",
              "      <td>211.16581</td>\n",
              "      <td>1.00000</td>\n",
              "      <td>183.50000</td>\n",
              "      <td>366.00000</td>\n",
              "      <td>548.50000</td>\n",
              "      <td>731.00000</td>\n",
              "    </tr>\n",
              "    <tr>\n",
              "      <th>season</th>\n",
              "      <td>731.00000</td>\n",
              "      <td>2.49658</td>\n",
              "      <td>1.11081</td>\n",
              "      <td>1.00000</td>\n",
              "      <td>2.00000</td>\n",
              "      <td>3.00000</td>\n",
              "      <td>3.00000</td>\n",
              "      <td>4.00000</td>\n",
              "    </tr>\n",
              "    <tr>\n",
              "      <th>yr</th>\n",
              "      <td>731.00000</td>\n",
              "      <td>0.50068</td>\n",
              "      <td>0.50034</td>\n",
              "      <td>0.00000</td>\n",
              "      <td>0.00000</td>\n",
              "      <td>1.00000</td>\n",
              "      <td>1.00000</td>\n",
              "      <td>1.00000</td>\n",
              "    </tr>\n",
              "    <tr>\n",
              "      <th>mnth</th>\n",
              "      <td>731.00000</td>\n",
              "      <td>6.51984</td>\n",
              "      <td>3.45191</td>\n",
              "      <td>1.00000</td>\n",
              "      <td>4.00000</td>\n",
              "      <td>7.00000</td>\n",
              "      <td>10.00000</td>\n",
              "      <td>12.00000</td>\n",
              "    </tr>\n",
              "    <tr>\n",
              "      <th>holiday</th>\n",
              "      <td>731.00000</td>\n",
              "      <td>0.02873</td>\n",
              "      <td>0.16715</td>\n",
              "      <td>0.00000</td>\n",
              "      <td>0.00000</td>\n",
              "      <td>0.00000</td>\n",
              "      <td>0.00000</td>\n",
              "      <td>1.00000</td>\n",
              "    </tr>\n",
              "    <tr>\n",
              "      <th>weekday</th>\n",
              "      <td>731.00000</td>\n",
              "      <td>2.99726</td>\n",
              "      <td>2.00479</td>\n",
              "      <td>0.00000</td>\n",
              "      <td>1.00000</td>\n",
              "      <td>3.00000</td>\n",
              "      <td>5.00000</td>\n",
              "      <td>6.00000</td>\n",
              "    </tr>\n",
              "    <tr>\n",
              "      <th>workingday</th>\n",
              "      <td>731.00000</td>\n",
              "      <td>0.68399</td>\n",
              "      <td>0.46523</td>\n",
              "      <td>0.00000</td>\n",
              "      <td>0.00000</td>\n",
              "      <td>1.00000</td>\n",
              "      <td>1.00000</td>\n",
              "      <td>1.00000</td>\n",
              "    </tr>\n",
              "    <tr>\n",
              "      <th>weathersit</th>\n",
              "      <td>731.00000</td>\n",
              "      <td>1.39535</td>\n",
              "      <td>0.54489</td>\n",
              "      <td>1.00000</td>\n",
              "      <td>1.00000</td>\n",
              "      <td>1.00000</td>\n",
              "      <td>2.00000</td>\n",
              "      <td>3.00000</td>\n",
              "    </tr>\n",
              "    <tr>\n",
              "      <th>temp</th>\n",
              "      <td>731.00000</td>\n",
              "      <td>20.31078</td>\n",
              "      <td>7.50509</td>\n",
              "      <td>2.42435</td>\n",
              "      <td>13.82042</td>\n",
              "      <td>20.43165</td>\n",
              "      <td>26.87208</td>\n",
              "      <td>35.32835</td>\n",
              "    </tr>\n",
              "    <tr>\n",
              "      <th>atemp</th>\n",
              "      <td>731.00000</td>\n",
              "      <td>23.71770</td>\n",
              "      <td>8.14806</td>\n",
              "      <td>3.95348</td>\n",
              "      <td>16.89213</td>\n",
              "      <td>24.33665</td>\n",
              "      <td>30.43010</td>\n",
              "      <td>42.04480</td>\n",
              "    </tr>\n",
              "    <tr>\n",
              "      <th>hum</th>\n",
              "      <td>731.00000</td>\n",
              "      <td>62.78941</td>\n",
              "      <td>14.24291</td>\n",
              "      <td>0.00000</td>\n",
              "      <td>52.00000</td>\n",
              "      <td>62.66670</td>\n",
              "      <td>73.02085</td>\n",
              "      <td>97.25000</td>\n",
              "    </tr>\n",
              "    <tr>\n",
              "      <th>windspeed</th>\n",
              "      <td>731.00000</td>\n",
              "      <td>12.76258</td>\n",
              "      <td>5.19236</td>\n",
              "      <td>1.50024</td>\n",
              "      <td>9.04165</td>\n",
              "      <td>12.12533</td>\n",
              "      <td>15.62537</td>\n",
              "      <td>34.00002</td>\n",
              "    </tr>\n",
              "    <tr>\n",
              "      <th>casual</th>\n",
              "      <td>731.00000</td>\n",
              "      <td>848.17647</td>\n",
              "      <td>686.62249</td>\n",
              "      <td>2.00000</td>\n",
              "      <td>315.50000</td>\n",
              "      <td>713.00000</td>\n",
              "      <td>1096.00000</td>\n",
              "      <td>3410.00000</td>\n",
              "    </tr>\n",
              "    <tr>\n",
              "      <th>registered</th>\n",
              "      <td>731.00000</td>\n",
              "      <td>3656.17237</td>\n",
              "      <td>1560.25638</td>\n",
              "      <td>20.00000</td>\n",
              "      <td>2497.00000</td>\n",
              "      <td>3662.00000</td>\n",
              "      <td>4776.50000</td>\n",
              "      <td>6946.00000</td>\n",
              "    </tr>\n",
              "    <tr>\n",
              "      <th>cnt</th>\n",
              "      <td>731.00000</td>\n",
              "      <td>4504.34884</td>\n",
              "      <td>1937.21145</td>\n",
              "      <td>22.00000</td>\n",
              "      <td>3152.00000</td>\n",
              "      <td>4548.00000</td>\n",
              "      <td>5956.00000</td>\n",
              "      <td>8714.00000</td>\n",
              "    </tr>\n",
              "  </tbody>\n",
              "</table>\n",
              "</div>"
            ]
          },
          "metadata": {},
          "output_type": "display_data"
        }
      ],
      "metadata": {}
    },
    {
      "cell_type": "code",
      "source": [
        "col = ['season','yr','mnth','yr','holiday','weekday', 'workingday','weathersit']"
      ],
      "execution_count": 11,
      "outputs": [],
      "metadata": {}
    },
    {
      "cell_type": "code",
      "source": [
        "def change_dtype(data,col):\n",
        "    for i in col:\n",
        "        if i in data.columns.to_list():\n",
        "            data[i] = data[i].astype('category')"
      ],
      "execution_count": 12,
      "outputs": [],
      "metadata": {}
    },
    {
      "cell_type": "code",
      "source": [
        "\n",
        "for i in col:\n",
        "    print(\"Name of {} col\".format(i))\n",
        "    print(\"No. of NUnique\",hour[i].nunique())\n",
        "    print(\"Unique Values\",hour[i].unique())\n",
        "    print('*'*30)\n",
        "    print(\"\")\n",
        "    print(\"\")"
      ],
      "execution_count": 13,
      "outputs": [
        {
          "name": "stdout",
          "text": [
            "Name of season col\n",
            "No. of NUnique 4\n",
            "Unique Values [1 2 3 4]\n",
            "******************************\n",
            "\n",
            "\n",
            "Name of yr col\n",
            "No. of NUnique 2\n",
            "Unique Values [0 1]\n",
            "******************************\n",
            "\n",
            "\n",
            "Name of mnth col\n",
            "No. of NUnique 12\n",
            "Unique Values [ 1  2  3  4  5  6  7  8  9 10 11 12]\n",
            "******************************\n",
            "\n",
            "\n",
            "Name of yr col\n",
            "No. of NUnique 2\n",
            "Unique Values [0 1]\n",
            "******************************\n",
            "\n",
            "\n",
            "Name of holiday col\n",
            "No. of NUnique 2\n",
            "Unique Values [0 1]\n",
            "******************************\n",
            "\n",
            "\n",
            "Name of weekday col\n",
            "No. of NUnique 7\n",
            "Unique Values [6 0 1 2 3 4 5]\n",
            "******************************\n",
            "\n",
            "\n",
            "Name of workingday col\n",
            "No. of NUnique 2\n",
            "Unique Values [0 1]\n",
            "******************************\n",
            "\n",
            "\n",
            "Name of weathersit col\n",
            "No. of NUnique 4\n",
            "Unique Values [1 2 3 4]\n",
            "******************************\n",
            "\n",
            "\n"
          ],
          "output_type": "stream"
        }
      ],
      "metadata": {}
    },
    {
      "cell_type": "code",
      "source": [
        "change_dtype(day, col)\n",
        "change_dtype(hour, col)"
      ],
      "execution_count": 14,
      "outputs": [],
      "metadata": {}
    },
    {
      "cell_type": "code",
      "source": [
        "for i in col:\n",
        "    print(\"Name of {} col\".format(i))\n",
        "    print(\"No. of NUnique\",hour[i].nunique())\n",
        "    print(\"Unique Values\",hour[i].unique())\n",
        "    print('*'*30)\n",
        "    print(\"\")\n",
        "    print(\"\")"
      ],
      "execution_count": 15,
      "outputs": [
        {
          "name": "stdout",
          "text": [
            "Name of season col\n",
            "No. of NUnique 4\n",
            "Unique Values [1, 2, 3, 4]\n",
            "Categories (4, int64): [1, 2, 3, 4]\n",
            "******************************\n",
            "\n",
            "\n",
            "Name of yr col\n",
            "No. of NUnique 2\n",
            "Unique Values [0, 1]\n",
            "Categories (2, int64): [0, 1]\n",
            "******************************\n",
            "\n",
            "\n",
            "Name of mnth col\n",
            "No. of NUnique 12\n",
            "Unique Values [1, 2, 3, 4, 5, ..., 8, 9, 10, 11, 12]\n",
            "Length: 12\n",
            "Categories (12, int64): [1, 2, 3, 4, ..., 9, 10, 11, 12]\n",
            "******************************\n",
            "\n",
            "\n",
            "Name of yr col\n",
            "No. of NUnique 2\n",
            "Unique Values [0, 1]\n",
            "Categories (2, int64): [0, 1]\n",
            "******************************\n",
            "\n",
            "\n",
            "Name of holiday col\n",
            "No. of NUnique 2\n",
            "Unique Values [0, 1]\n",
            "Categories (2, int64): [0, 1]\n",
            "******************************\n",
            "\n",
            "\n",
            "Name of weekday col\n",
            "No. of NUnique 7\n",
            "Unique Values [6, 0, 1, 2, 3, 4, 5]\n",
            "Categories (7, int64): [6, 0, 1, 2, 3, 4, 5]\n",
            "******************************\n",
            "\n",
            "\n",
            "Name of workingday col\n",
            "No. of NUnique 2\n",
            "Unique Values [0, 1]\n",
            "Categories (2, int64): [0, 1]\n",
            "******************************\n",
            "\n",
            "\n",
            "Name of weathersit col\n",
            "No. of NUnique 4\n",
            "Unique Values [1, 2, 3, 4]\n",
            "Categories (4, int64): [1, 2, 3, 4]\n",
            "******************************\n",
            "\n",
            "\n"
          ],
          "output_type": "stream"
        }
      ],
      "metadata": {}
    },
    {
      "cell_type": "code",
      "source": [
        "def drop_instant(data):\n",
        "    data.drop(['instant'], axis=1, inplace=True)"
      ],
      "execution_count": 16,
      "outputs": [],
      "metadata": {}
    },
    {
      "cell_type": "code",
      "source": [
        "drop_instant(day)\n",
        "drop_instant(hour)"
      ],
      "execution_count": 17,
      "outputs": [],
      "metadata": {}
    },
    {
      "cell_type": "code",
      "source": [
        "hour.describe().T"
      ],
      "execution_count": 18,
      "outputs": [
        {
          "data": {
            "text/html": [
              "<div>\n",
              "<style scoped>\n",
              "    .dataframe tbody tr th:only-of-type {\n",
              "        vertical-align: middle;\n",
              "    }\n",
              "\n",
              "    .dataframe tbody tr th {\n",
              "        vertical-align: top;\n",
              "    }\n",
              "\n",
              "    .dataframe thead th {\n",
              "        text-align: right;\n",
              "    }\n",
              "</style>\n",
              "<table border=\"1\" class=\"dataframe\">\n",
              "  <thead>\n",
              "    <tr style=\"text-align: right;\">\n",
              "      <th></th>\n",
              "      <th>count</th>\n",
              "      <th>mean</th>\n",
              "      <th>std</th>\n",
              "      <th>min</th>\n",
              "      <th>25%</th>\n",
              "      <th>50%</th>\n",
              "      <th>75%</th>\n",
              "      <th>max</th>\n",
              "    </tr>\n",
              "  </thead>\n",
              "  <tbody>\n",
              "    <tr>\n",
              "      <th>hr</th>\n",
              "      <td>17379.00000</td>\n",
              "      <td>11.54675</td>\n",
              "      <td>6.91441</td>\n",
              "      <td>0.00000</td>\n",
              "      <td>6.00000</td>\n",
              "      <td>12.00000</td>\n",
              "      <td>18.00000</td>\n",
              "      <td>23.00000</td>\n",
              "    </tr>\n",
              "    <tr>\n",
              "      <th>temp</th>\n",
              "      <td>17379.00000</td>\n",
              "      <td>20.37647</td>\n",
              "      <td>7.89480</td>\n",
              "      <td>0.82000</td>\n",
              "      <td>13.94000</td>\n",
              "      <td>20.50000</td>\n",
              "      <td>27.06000</td>\n",
              "      <td>41.00000</td>\n",
              "    </tr>\n",
              "    <tr>\n",
              "      <th>atemp</th>\n",
              "      <td>17379.00000</td>\n",
              "      <td>23.78876</td>\n",
              "      <td>8.59251</td>\n",
              "      <td>0.00000</td>\n",
              "      <td>16.66500</td>\n",
              "      <td>24.24000</td>\n",
              "      <td>31.06000</td>\n",
              "      <td>50.00000</td>\n",
              "    </tr>\n",
              "    <tr>\n",
              "      <th>hum</th>\n",
              "      <td>17379.00000</td>\n",
              "      <td>62.72288</td>\n",
              "      <td>19.29298</td>\n",
              "      <td>0.00000</td>\n",
              "      <td>48.00000</td>\n",
              "      <td>63.00000</td>\n",
              "      <td>78.00000</td>\n",
              "      <td>100.00000</td>\n",
              "    </tr>\n",
              "    <tr>\n",
              "      <th>windspeed</th>\n",
              "      <td>17379.00000</td>\n",
              "      <td>12.73654</td>\n",
              "      <td>8.19680</td>\n",
              "      <td>0.00000</td>\n",
              "      <td>7.00150</td>\n",
              "      <td>12.99800</td>\n",
              "      <td>16.99790</td>\n",
              "      <td>56.99690</td>\n",
              "    </tr>\n",
              "    <tr>\n",
              "      <th>casual</th>\n",
              "      <td>17379.00000</td>\n",
              "      <td>35.67622</td>\n",
              "      <td>49.30503</td>\n",
              "      <td>0.00000</td>\n",
              "      <td>4.00000</td>\n",
              "      <td>17.00000</td>\n",
              "      <td>48.00000</td>\n",
              "      <td>367.00000</td>\n",
              "    </tr>\n",
              "    <tr>\n",
              "      <th>registered</th>\n",
              "      <td>17379.00000</td>\n",
              "      <td>153.78687</td>\n",
              "      <td>151.35729</td>\n",
              "      <td>0.00000</td>\n",
              "      <td>34.00000</td>\n",
              "      <td>115.00000</td>\n",
              "      <td>220.00000</td>\n",
              "      <td>886.00000</td>\n",
              "    </tr>\n",
              "    <tr>\n",
              "      <th>cnt</th>\n",
              "      <td>17379.00000</td>\n",
              "      <td>189.46309</td>\n",
              "      <td>181.38760</td>\n",
              "      <td>1.00000</td>\n",
              "      <td>40.00000</td>\n",
              "      <td>142.00000</td>\n",
              "      <td>281.00000</td>\n",
              "      <td>977.00000</td>\n",
              "    </tr>\n",
              "  </tbody>\n",
              "</table>\n",
              "</div>"
            ]
          },
          "metadata": {},
          "output_type": "display_data"
        }
      ],
      "metadata": {}
    },
    {
      "cell_type": "code",
      "source": [
        "for i in day.select_dtypes(include='int'):\n",
        "    sns.distplot(day[i])\n",
        "    plt.show()"
      ],
      "execution_count": 19,
      "outputs": [
        {
          "data": {
            "image/png": "[encoded data removed]"
          },
          "metadata": {
            "image/png": {
              "width": 0,
              "height": 0
            }
          },
          "output_type": "display_data"
        }
      ],
      "metadata": {}
    },
    {
      "cell_type": "code",
      "source": [
        "for i in day.select_dtypes(include='int'):\n",
        "    sns.distplot(hour[i])\n",
        "    plt.show()"
      ],
      "execution_count": 20,
      "outputs": [
        {
          "data": {
            "image/png": "[encoded data removed]"
          },
          "metadata": {
            "image/png": {
              "width": 0,
              "height": 0
            }
          },
          "output_type": "display_data"
        }
      ],
      "metadata": {}
    },
    {
      "cell_type": "code",
      "source": [
        "for i in day.select_dtypes(include='int'):\n",
        "    sns.boxplot(day[i])\n",
        "    plt.show()"
      ],
      "execution_count": 21,
      "outputs": [
        {
          "data": {
            "image/png": "[encoded data removed]"
          },
          "metadata": {
            "image/png": {
              "width": 0,
              "height": 0
            }
          },
          "output_type": "display_data"
        }
      ],
      "metadata": {}
    },
    {
      "cell_type": "code",
      "source": [
        "for i in day.select_dtypes(include='int'):\n",
        "    sns.boxplot(hour[i])\n",
        "    plt.show()"
      ],
      "execution_count": 22,
      "outputs": [
        {
          "data": {
            "image/png": "[encoded data removed]"
          },
          "metadata": {
            "image/png": {
              "width": 0,
              "height": 0
            }
          },
          "output_type": "display_data"
        }
      ],
      "metadata": {}
    },
    {
      "cell_type": "code",
      "source": [
        "for i in day.select_dtypes(include='float'):\n",
        "    sns.distplot(day[i])\n",
        "    plt.show()"
      ],
      "execution_count": 23,
      "outputs": [
        {
          "data": {
            "image/png": "[encoded data removed]"
          },
          "metadata": {
            "image/png": {
              "width": 0,
              "height": 0
            }
          },
          "output_type": "display_data"
        }
      ],
      "metadata": {}
    },
    {
      "cell_type": "code",
      "source": [
        "sns.heatmap(day.corr())"
      ],
      "execution_count": 24,
      "outputs": [
        {
          "data": {
            "text/plain": [
              "<AxesSubplot:>"
            ],
            "image/png": "[encoded data removed]"
          },
          "metadata": {
            "image/png": {
              "width": 0,
              "height": 0
            }
          },
          "output_type": "display_data"
        }
      ],
      "metadata": {}
    },
    {
      "cell_type": "code",
      "source": [
        "day.corr()['cnt']"
      ],
      "execution_count": 25,
      "outputs": [
        {
          "data": {
            "text/plain": [
              "temp          0.62749\n",
              "atemp         0.63107\n",
              "hum          -0.10066\n",
              "windspeed    -0.23454\n",
              "casual        0.67280\n",
              "registered    0.94552\n",
              "cnt           1.00000\n",
              "Name: cnt, dtype: float64"
            ]
          },
          "metadata": {},
          "output_type": "display_data"
        }
      ],
      "metadata": {}
    },
    {
      "cell_type": "code",
      "source": [
        "hour.corr()['cnt']"
      ],
      "execution_count": 26,
      "outputs": [
        {
          "data": {
            "text/plain": [
              "hr            0.39407\n",
              "temp          0.40477\n",
              "atemp         0.40093\n",
              "hum          -0.32291\n",
              "windspeed     0.09323\n",
              "casual        0.69456\n",
              "registered    0.97215\n",
              "cnt           1.00000\n",
              "Name: cnt, dtype: float64"
            ]
          },
          "metadata": {},
          "output_type": "display_data"
        }
      ],
      "metadata": {}
    },
    {
      "cell_type": "code",
      "source": [
        "day.head()"
      ],
      "execution_count": 27,
      "outputs": [
        {
          "data": {
            "text/html": [
              "<div>\n",
              "<style scoped>\n",
              "    .dataframe tbody tr th:only-of-type {\n",
              "        vertical-align: middle;\n",
              "    }\n",
              "\n",
              "    .dataframe tbody tr th {\n",
              "        vertical-align: top;\n",
              "    }\n",
              "\n",
              "    .dataframe thead th {\n",
              "        text-align: right;\n",
              "    }\n",
              "</style>\n",
              "<table border=\"1\" class=\"dataframe\">\n",
              "  <thead>\n",
              "    <tr style=\"text-align: right;\">\n",
              "      <th></th>\n",
              "      <th>dteday</th>\n",
              "      <th>season</th>\n",
              "      <th>yr</th>\n",
              "      <th>mnth</th>\n",
              "      <th>holiday</th>\n",
              "      <th>weekday</th>\n",
              "      <th>workingday</th>\n",
              "      <th>weathersit</th>\n",
              "      <th>temp</th>\n",
              "      <th>atemp</th>\n",
              "      <th>hum</th>\n",
              "      <th>windspeed</th>\n",
              "      <th>casual</th>\n",
              "      <th>registered</th>\n",
              "      <th>cnt</th>\n",
              "    </tr>\n",
              "  </thead>\n",
              "  <tbody>\n",
              "    <tr>\n",
              "      <th>0</th>\n",
              "      <td>1/1/2011</td>\n",
              "      <td>1</td>\n",
              "      <td>0</td>\n",
              "      <td>1</td>\n",
              "      <td>0</td>\n",
              "      <td>6</td>\n",
              "      <td>0</td>\n",
              "      <td>2</td>\n",
              "      <td>14.11085</td>\n",
              "      <td>18.18125</td>\n",
              "      <td>80.58330</td>\n",
              "      <td>10.74988</td>\n",
              "      <td>331</td>\n",
              "      <td>654</td>\n",
              "      <td>985</td>\n",
              "    </tr>\n",
              "    <tr>\n",
              "      <th>1</th>\n",
              "      <td>1/2/2011</td>\n",
              "      <td>1</td>\n",
              "      <td>0</td>\n",
              "      <td>1</td>\n",
              "      <td>0</td>\n",
              "      <td>0</td>\n",
              "      <td>0</td>\n",
              "      <td>2</td>\n",
              "      <td>14.90260</td>\n",
              "      <td>17.68695</td>\n",
              "      <td>69.60870</td>\n",
              "      <td>16.65211</td>\n",
              "      <td>131</td>\n",
              "      <td>670</td>\n",
              "      <td>801</td>\n",
              "    </tr>\n",
              "    <tr>\n",
              "      <th>2</th>\n",
              "      <td>1/3/2011</td>\n",
              "      <td>1</td>\n",
              "      <td>0</td>\n",
              "      <td>1</td>\n",
              "      <td>0</td>\n",
              "      <td>1</td>\n",
              "      <td>1</td>\n",
              "      <td>1</td>\n",
              "      <td>8.05092</td>\n",
              "      <td>9.47025</td>\n",
              "      <td>43.72730</td>\n",
              "      <td>16.63670</td>\n",
              "      <td>120</td>\n",
              "      <td>1229</td>\n",
              "      <td>1349</td>\n",
              "    </tr>\n",
              "    <tr>\n",
              "      <th>3</th>\n",
              "      <td>1/4/2011</td>\n",
              "      <td>1</td>\n",
              "      <td>0</td>\n",
              "      <td>1</td>\n",
              "      <td>0</td>\n",
              "      <td>2</td>\n",
              "      <td>1</td>\n",
              "      <td>1</td>\n",
              "      <td>8.20000</td>\n",
              "      <td>10.60610</td>\n",
              "      <td>59.04350</td>\n",
              "      <td>10.73983</td>\n",
              "      <td>108</td>\n",
              "      <td>1454</td>\n",
              "      <td>1562</td>\n",
              "    </tr>\n",
              "    <tr>\n",
              "      <th>4</th>\n",
              "      <td>1/5/2011</td>\n",
              "      <td>1</td>\n",
              "      <td>0</td>\n",
              "      <td>1</td>\n",
              "      <td>0</td>\n",
              "      <td>3</td>\n",
              "      <td>1</td>\n",
              "      <td>1</td>\n",
              "      <td>9.30524</td>\n",
              "      <td>11.46350</td>\n",
              "      <td>43.69570</td>\n",
              "      <td>12.52230</td>\n",
              "      <td>82</td>\n",
              "      <td>1518</td>\n",
              "      <td>1600</td>\n",
              "    </tr>\n",
              "  </tbody>\n",
              "</table>\n",
              "</div>"
            ]
          },
          "metadata": {},
          "output_type": "display_data"
        }
      ],
      "metadata": {}
    },
    {
      "cell_type": "code",
      "source": [
        "def get_df_name(df):\n",
        "    name=[x for x in globals() if globals()[x] is df][0]\n",
        "    return name"
      ],
      "execution_count": 28,
      "outputs": [],
      "metadata": {}
    },
    {
      "cell_type": "code",
      "source": [
        "def plot_stack_bar_chart(data,col,name):\n",
        "    plt.figure(figsize=(12,8))\n",
        "    p1 =plt.bar(data[col].unique(),data.groupby([col])['casual'].sum())\n",
        "\n",
        "    p2 =plt.bar(data[col].unique(),data.groupby([col])['registered'].sum(),bottom =data.groupby([col])['casual'].sum())\n",
        "\n",
        "    plt.ylabel('count')\n",
        "    plt.title(\"count by casual and Registered for each {} in {} Data\".format(col, get_df_name(data)))\n",
        "    plt.xticks(data[col].unique(),name)\n",
        "    plt.legend((p1[0],p2[0]), ('casual','Registered'))\n",
        "    plt.show()"
      ],
      "execution_count": 29,
      "outputs": [],
      "metadata": {}
    },
    {
      "cell_type": "code",
      "source": [
        "plot_stack_bar_chart(day, 'season', ('1:springer','2:summer','3:fall','4:winter'))"
      ],
      "execution_count": 30,
      "outputs": [
        {
          "data": {
            "image/png": "[encoded data removed]"
          },
          "metadata": {
            "image/png": {
              "width": 0,
              "height": 0
            }
          },
          "output_type": "display_data"
        }
      ],
      "metadata": {}
    },
    {
      "cell_type": "code",
      "source": [
        "plot_stack_bar_chart(day, 'yr',('2011','2012'))"
      ],
      "execution_count": 31,
      "outputs": [
        {
          "data": {
            "image/png": "[encoded data removed]"
          },
          "metadata": {
            "image/png": {
              "width": 0,
              "height": 0
            }
          },
          "output_type": "display_data"
        }
      ],
      "metadata": {}
    },
    {
      "cell_type": "code",
      "source": [
        "plot_stack_bar_chart(day, 'mnth', [str(i) for i in day['mnth'].unique()])"
      ],
      "execution_count": 32,
      "outputs": [
        {
          "data": {
            "image/png": "[encoded data removed]"
          },
          "metadata": {
            "image/png": {
              "width": 0,
              "height": 0
            }
          },
          "output_type": "display_data"
        }
      ],
      "metadata": {}
    },
    {
      "cell_type": "code",
      "source": [
        "plot_stack_bar_chart(day, 'holiday',('Yes','No'))"
      ],
      "execution_count": 33,
      "outputs": [
        {
          "data": {
            "image/png": "[encoded data removed]"
          },
          "metadata": {
            "image/png": {
              "width": 0,
              "height": 0
            }
          },
          "output_type": "display_data"
        }
      ],
      "metadata": {}
    },
    {
      "cell_type": "code",
      "source": [
        "plot_stack_bar_chart(hour, 'weekday', [str(i) for i in day['mnth'].unique()])"
      ],
      "execution_count": 34,
      "outputs": [
        {
          "ename": "ValueError",
          "evalue": "ValueError: The number of FixedLocator locations (7), usually from a call to set_ticks, does not match the number of ticklabels (12).",
          "traceback": [
            "\u001b[0;31m---------------------------------------------------------------------------",
            "Traceback (most recent call last)",
            "    at line 1 in <module>",
            "    at line 9 in plot_stack_bar_chart(data, col, name)",
            "ValueError: The number of FixedLocator locations (7), usually from a call to set_ticks, does not match the number of ticklabels (12)."
          ],
          "output_type": "error"
        },
        {
          "data": {
            "image/png": "[encoded data removed]"
          },
          "metadata": {
            "image/png": {
              "width": 0,
              "height": 0
            }
          },
          "output_type": "display_data"
        }
      ],
      "metadata": {}
    },
    {
      "cell_type": "code",
      "source": [
        "plot_stack_bar_chart(hour, 'hr', [str(i) for i in day['mnth'].unique()])"
      ],
      "execution_count": 35,
      "outputs": [
        {
          "ename": "ValueError",
          "evalue": "ValueError: The number of FixedLocator locations (24), usually from a call to set_ticks, does not match the number of ticklabels (12).",
          "traceback": [
            "\u001b[0;31m---------------------------------------------------------------------------",
            "Traceback (most recent call last)",
            "    at line 1 in <module>",
            "    at line 9 in plot_stack_bar_chart(data, col, name)",
            "ValueError: The number of FixedLocator locations (24), usually from a call to set_ticks, does not match the number of ticklabels (12)."
          ],
          "output_type": "error"
        },
        {
          "data": {
            "image/png": "[encoded data removed]"
          },
          "metadata": {
            "image/png": {
              "width": 0,
              "height": 0
            }
          },
          "output_type": "display_data"
        }
      ],
      "metadata": {}
    },
    {
      "cell_type": "code",
      "source": [
        "plot_stack_bar_chart(hour, 'holiday',('Yes','No'))"
      ],
      "execution_count": 36,
      "outputs": [
        {
          "data": {
            "image/png": "[encoded data removed]"
          },
          "metadata": {
            "image/png": {
              "width": 0,
              "height": 0
            }
          },
          "output_type": "display_data"
        }
      ],
      "metadata": {}
    },
    {
      "cell_type": "code",
      "source": [
        "plt.figure(figsize=(12,8))\n",
        "sns.barplot(x = hour['holiday'], y = hour['cnt'],hue = hour['season'])\n",
        "plt.title('Holiday wise distribution of counts')\n",
        "plt.show()"
      ],
      "execution_count": 37,
      "outputs": [
        {
          "data": {
            "image/png": "[encoded data removed]"
          },
          "metadata": {
            "image/png": {
              "width": 0,
              "height": 0
            }
          },
          "output_type": "display_data"
        }
      ],
      "metadata": {}
    },
    {
      "cell_type": "code",
      "source": [
        "plt.figure(figsize=(12,8))\n",
        "sns.barplot(x = hour['workingday'], y = hour['cnt'],hue = hour['season'])\n",
        "plt.title('Holiday wise distribution of counts')\n",
        "plt.show()"
      ],
      "execution_count": 38,
      "outputs": [
        {
          "data": {
            "image/png": "[encoded data removed]"
          },
          "metadata": {
            "image/png": {
              "width": 0,
              "height": 0
            }
          },
          "output_type": "display_data"
        }
      ],
      "metadata": {}
    }
  ],
  "metadata": {},
  "nbformat": 4,
  "nbformat_minor": 0
}