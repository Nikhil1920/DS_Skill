{
  "cells": [
    {
      "cell_type": "markdown",
      "source": [
        "# 190031920\n",
        "# A Nikhil Reddy\n",
        "# DS Skill 1"
      ],
      "metadata": {}
    },
    {
      "cell_type": "code",
      "source": [
        "import pandas as pd\n",
        "import numpy as np"
      ],
      "execution_count": 1,
      "outputs": [],
      "metadata": {}
    },
    {
      "cell_type": "code",
      "source": [
        "list = ['apple','banana','orange','grape']\n",
        "series = pd.Series(list)\n",
        "print(series)"
      ],
      "execution_count": 2,
      "outputs": [
        {
          "name": "stdout",
          "text": [
            "0     apple\n",
            "1    banana\n",
            "2    orange\n",
            "3     grape\n",
            "dtype: object\n"
          ],
          "output_type": "stream"
        }
      ],
      "metadata": {}
    },
    {
      "cell_type": "code",
      "source": [
        "d=['kishan','tejesh','vyshnav','goutham','anirudh']\n",
        "m=[[78,66,69,75],[88,68,79,77],[70,80,90,60],[88,66,77,89],[69,64,82,72]]\n",
        "s=['AI','OOPS','MP2','CNS']"
      ],
      "execution_count": 3,
      "outputs": [],
      "metadata": {}
    },
    {
      "cell_type": "code",
      "source": [
        "df = pd.DataFrame(data=m,index=d,columns=s)"
      ],
      "execution_count": 4,
      "outputs": [],
      "metadata": {}
    },
    {
      "cell_type": "code",
      "source": [
        "df"
      ],
      "execution_count": 5,
      "outputs": [
        {
          "data": {
            "text/html": [
              "<div>\n",
              "<style scoped>\n",
              "    .dataframe tbody tr th:only-of-type {\n",
              "        vertical-align: middle;\n",
              "    }\n",
              "\n",
              "    .dataframe tbody tr th {\n",
              "        vertical-align: top;\n",
              "    }\n",
              "\n",
              "    .dataframe thead th {\n",
              "        text-align: right;\n",
              "    }\n",
              "</style>\n",
              "<table border=\"1\" class=\"dataframe\">\n",
              "  <thead>\n",
              "    <tr style=\"text-align: right;\">\n",
              "      <th></th>\n",
              "      <th>AI</th>\n",
              "      <th>OOPS</th>\n",
              "      <th>MP2</th>\n",
              "      <th>CNS</th>\n",
              "    </tr>\n",
              "  </thead>\n",
              "  <tbody>\n",
              "    <tr>\n",
              "      <th>kishan</th>\n",
              "      <td>78</td>\n",
              "      <td>66</td>\n",
              "      <td>69</td>\n",
              "      <td>75</td>\n",
              "    </tr>\n",
              "    <tr>\n",
              "      <th>tejesh</th>\n",
              "      <td>88</td>\n",
              "      <td>68</td>\n",
              "      <td>79</td>\n",
              "      <td>77</td>\n",
              "    </tr>\n",
              "    <tr>\n",
              "      <th>student 3</th>\n",
              "      <td>70</td>\n",
              "      <td>80</td>\n",
              "      <td>90</td>\n",
              "      <td>60</td>\n",
              "    </tr>\n",
              "    <tr>\n",
              "      <th>student 4</th>\n",
              "      <td>88</td>\n",
              "      <td>66</td>\n",
              "      <td>77</td>\n",
              "      <td>89</td>\n",
              "    </tr>\n",
              "    <tr>\n",
              "      <th>student 5</th>\n",
              "      <td>69</td>\n",
              "      <td>64</td>\n",
              "      <td>82</td>\n",
              "      <td>72</td>\n",
              "    </tr>\n",
              "  </tbody>\n",
              "</table>\n",
              "</div>"
            ]
          },
          "metadata": {},
          "output_type": "display_data"
        }
      ],
      "metadata": {}
    },
    {
      "cell_type": "code",
      "source": [
        "z = df.iloc[1:,:2]"
      ],
      "execution_count": 6,
      "outputs": [],
      "metadata": {}
    },
    {
      "cell_type": "code",
      "source": [
        "z"
      ],
      "execution_count": 7,
      "outputs": [
        {
          "data": {
            "text/html": [
              "<div>\n",
              "<style scoped>\n",
              "    .dataframe tbody tr th:only-of-type {\n",
              "        vertical-align: middle;\n",
              "    }\n",
              "\n",
              "    .dataframe tbody tr th {\n",
              "        vertical-align: top;\n",
              "    }\n",
              "\n",
              "    .dataframe thead th {\n",
              "        text-align: right;\n",
              "    }\n",
              "</style>\n",
              "<table border=\"1\" class=\"dataframe\">\n",
              "  <thead>\n",
              "    <tr style=\"text-align: right;\">\n",
              "      <th></th>\n",
              "      <th>AI</th>\n",
              "      <th>OOPS</th>\n",
              "    </tr>\n",
              "  </thead>\n",
              "  <tbody>\n",
              "    <tr>\n",
              "      <th>tejesh</th>\n",
              "      <td>88</td>\n",
              "      <td>68</td>\n",
              "    </tr>\n",
              "    <tr>\n",
              "      <th>student 3</th>\n",
              "      <td>70</td>\n",
              "      <td>80</td>\n",
              "    </tr>\n",
              "    <tr>\n",
              "      <th>student 4</th>\n",
              "      <td>88</td>\n",
              "      <td>66</td>\n",
              "    </tr>\n",
              "    <tr>\n",
              "      <th>student 5</th>\n",
              "      <td>69</td>\n",
              "      <td>64</td>\n",
              "    </tr>\n",
              "  </tbody>\n",
              "</table>\n",
              "</div>"
            ]
          },
          "metadata": {},
          "output_type": "display_data"
        }
      ],
      "metadata": {}
    },
    {
      "cell_type": "code",
      "source": [
        "df['SPI'] = df['MP2']+df['AI']\n",
        "df"
      ],
      "execution_count": 8,
      "outputs": [
        {
          "data": {
            "text/html": [
              "<div>\n",
              "<style scoped>\n",
              "    .dataframe tbody tr th:only-of-type {\n",
              "        vertical-align: middle;\n",
              "    }\n",
              "\n",
              "    .dataframe tbody tr th {\n",
              "        vertical-align: top;\n",
              "    }\n",
              "\n",
              "    .dataframe thead th {\n",
              "        text-align: right;\n",
              "    }\n",
              "</style>\n",
              "<table border=\"1\" class=\"dataframe\">\n",
              "  <thead>\n",
              "    <tr style=\"text-align: right;\">\n",
              "      <th></th>\n",
              "      <th>AI</th>\n",
              "      <th>OOPS</th>\n",
              "      <th>MP2</th>\n",
              "      <th>CNS</th>\n",
              "      <th>SPI</th>\n",
              "    </tr>\n",
              "  </thead>\n",
              "  <tbody>\n",
              "    <tr>\n",
              "      <th>kishan</th>\n",
              "      <td>78</td>\n",
              "      <td>66</td>\n",
              "      <td>69</td>\n",
              "      <td>75</td>\n",
              "      <td>147</td>\n",
              "    </tr>\n",
              "    <tr>\n",
              "      <th>tejesh</th>\n",
              "      <td>88</td>\n",
              "      <td>68</td>\n",
              "      <td>79</td>\n",
              "      <td>77</td>\n",
              "      <td>167</td>\n",
              "    </tr>\n",
              "    <tr>\n",
              "      <th>student 3</th>\n",
              "      <td>70</td>\n",
              "      <td>80</td>\n",
              "      <td>90</td>\n",
              "      <td>60</td>\n",
              "      <td>160</td>\n",
              "    </tr>\n",
              "    <tr>\n",
              "      <th>student 4</th>\n",
              "      <td>88</td>\n",
              "      <td>66</td>\n",
              "      <td>77</td>\n",
              "      <td>89</td>\n",
              "      <td>165</td>\n",
              "    </tr>\n",
              "    <tr>\n",
              "      <th>student 5</th>\n",
              "      <td>69</td>\n",
              "      <td>64</td>\n",
              "      <td>82</td>\n",
              "      <td>72</td>\n",
              "      <td>151</td>\n",
              "    </tr>\n",
              "  </tbody>\n",
              "</table>\n",
              "</div>"
            ]
          },
          "metadata": {},
          "output_type": "display_data"
        }
      ],
      "metadata": {}
    },
    {
      "cell_type": "code",
      "source": [
        "df['total']=df['AI']+df['OOPS']+df['MP2']+df['CNS']\n",
        "df"
      ],
      "execution_count": 9,
      "outputs": [
        {
          "data": {
            "text/html": [
              "<div>\n",
              "<style scoped>\n",
              "    .dataframe tbody tr th:only-of-type {\n",
              "        vertical-align: middle;\n",
              "    }\n",
              "\n",
              "    .dataframe tbody tr th {\n",
              "        vertical-align: top;\n",
              "    }\n",
              "\n",
              "    .dataframe thead th {\n",
              "        text-align: right;\n",
              "    }\n",
              "</style>\n",
              "<table border=\"1\" class=\"dataframe\">\n",
              "  <thead>\n",
              "    <tr style=\"text-align: right;\">\n",
              "      <th></th>\n",
              "      <th>AI</th>\n",
              "      <th>OOPS</th>\n",
              "      <th>MP2</th>\n",
              "      <th>CNS</th>\n",
              "      <th>SPI</th>\n",
              "      <th>total</th>\n",
              "    </tr>\n",
              "  </thead>\n",
              "  <tbody>\n",
              "    <tr>\n",
              "      <th>kishan</th>\n",
              "      <td>78</td>\n",
              "      <td>66</td>\n",
              "      <td>69</td>\n",
              "      <td>75</td>\n",
              "      <td>147</td>\n",
              "      <td>288</td>\n",
              "    </tr>\n",
              "    <tr>\n",
              "      <th>tejesh</th>\n",
              "      <td>88</td>\n",
              "      <td>68</td>\n",
              "      <td>79</td>\n",
              "      <td>77</td>\n",
              "      <td>167</td>\n",
              "      <td>312</td>\n",
              "    </tr>\n",
              "    <tr>\n",
              "      <th>student 3</th>\n",
              "      <td>70</td>\n",
              "      <td>80</td>\n",
              "      <td>90</td>\n",
              "      <td>60</td>\n",
              "      <td>160</td>\n",
              "      <td>300</td>\n",
              "    </tr>\n",
              "    <tr>\n",
              "      <th>student 4</th>\n",
              "      <td>88</td>\n",
              "      <td>66</td>\n",
              "      <td>77</td>\n",
              "      <td>89</td>\n",
              "      <td>165</td>\n",
              "      <td>320</td>\n",
              "    </tr>\n",
              "    <tr>\n",
              "      <th>student 5</th>\n",
              "      <td>69</td>\n",
              "      <td>64</td>\n",
              "      <td>82</td>\n",
              "      <td>72</td>\n",
              "      <td>151</td>\n",
              "      <td>287</td>\n",
              "    </tr>\n",
              "  </tbody>\n",
              "</table>\n",
              "</div>"
            ]
          },
          "metadata": {},
          "output_type": "display_data"
        }
      ],
      "metadata": {}
    },
    {
      "cell_type": "code",
      "source": [
        "df.loc[['vyshnav','anirudh']]"
      ],
      "execution_count": 10,
      "outputs": [
        {
          "data": {
            "text/html": [
              "<div>\n",
              "<style scoped>\n",
              "    .dataframe tbody tr th:only-of-type {\n",
              "        vertical-align: middle;\n",
              "    }\n",
              "\n",
              "    .dataframe tbody tr th {\n",
              "        vertical-align: top;\n",
              "    }\n",
              "\n",
              "    .dataframe thead th {\n",
              "        text-align: right;\n",
              "    }\n",
              "</style>\n",
              "<table border=\"1\" class=\"dataframe\">\n",
              "  <thead>\n",
              "    <tr style=\"text-align: right;\">\n",
              "      <th></th>\n",
              "      <th>AI</th>\n",
              "      <th>OOPS</th>\n",
              "      <th>MP2</th>\n",
              "      <th>CNS</th>\n",
              "      <th>SPI</th>\n",
              "      <th>total</th>\n",
              "    </tr>\n",
              "  </thead>\n",
              "  <tbody>\n",
              "    <tr>\n",
              "      <th>student 3</th>\n",
              "      <td>70</td>\n",
              "      <td>80</td>\n",
              "      <td>90</td>\n",
              "      <td>60</td>\n",
              "      <td>160</td>\n",
              "      <td>300</td>\n",
              "    </tr>\n",
              "    <tr>\n",
              "      <th>student 5</th>\n",
              "      <td>69</td>\n",
              "      <td>64</td>\n",
              "      <td>82</td>\n",
              "      <td>72</td>\n",
              "      <td>151</td>\n",
              "      <td>287</td>\n",
              "    </tr>\n",
              "  </tbody>\n",
              "</table>\n",
              "</div>"
            ]
          },
          "metadata": {},
          "output_type": "display_data"
        }
      ],
      "metadata": {}
    },
    {
      "cell_type": "code",
      "source": [
        "sum(df['OOPS'])"
      ],
      "execution_count": 11,
      "outputs": [
        {
          "data": {
            "text/plain": [
              "344"
            ]
          },
          "metadata": {},
          "output_type": "display_data"
        }
      ],
      "metadata": {}
    }
  ],
  "metadata": {},
  "nbformat": 4,
  "nbformat_minor": 0
}